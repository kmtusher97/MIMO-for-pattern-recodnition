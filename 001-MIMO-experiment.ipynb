{
 "cells": [
  {
   "cell_type": "code",
   "execution_count": 1,
   "metadata": {},
   "outputs": [],
   "source": [
    "import cmath\n",
    "import numpy as np\n",
    "\n",
    "np.set_printoptions(precision=3)\n",
    "\n",
    "x = np.matrix(np.arange(12).reshape((3,4)))\n",
    "\n",
    "z = x - 1j*x"
   ]
  },
  {
   "cell_type": "code",
   "execution_count": 2,
   "metadata": {},
   "outputs": [
    {
     "output_type": "stream",
     "name": "stdout",
     "text": [
      "[[ 0. -0.j  4. +4.j  8. +8.j]\n [ 1. +1.j  5. +5.j  9. +9.j]\n [ 2. +2.j  6. +6.j 10.+10.j]\n [ 3. +3.j  7. +7.j 11.+11.j]]\n"
     ]
    }
   ],
   "source": [
    "y = z.getH()\n",
    "print(y)"
   ]
  },
  {
   "cell_type": "code",
   "execution_count": 3,
   "metadata": {},
   "outputs": [],
   "source": [
    "x = np.matrix([[complex(0.2, 0.4)], \n",
    "              [complex(1.1, -0.6)], \n",
    "              [complex(0.45, -0.34)], \n",
    "              [complex(1.2, 1.4)]])"
   ]
  },
  {
   "cell_type": "code",
   "execution_count": 4,
   "metadata": {},
   "outputs": [],
   "source": [
    "n = np.matrix([[complex(0.001, 0.02)], \n",
    "              [complex(0.003, -0.005)], \n",
    "              [complex(0.04, -0.003)], \n",
    "              [complex(0.0012, -0.003)]])"
   ]
  },
  {
   "cell_type": "code",
   "execution_count": 5,
   "metadata": {},
   "outputs": [],
   "source": [
    "H = np.matrix([[complex(0.23, -0.12),   complex(-0.612, 0.09),   complex(-0.71, 0.12),  complex(0.32, 0.11)], \n",
    "               [complex(0.112, -0.098), complex(0.16, 0.23),     complex(0.154, -0.22), complex(0.32, -0.23)],\n",
    "               [complex(-0.53, -0.12),  complex(0.321, -0.25),   complex(0.56, -0.076), complex(0.71, -0.22)],\n",
    "               [complex(0.86, -0.23),   complex(-0.887, -0.099), complex(0.23, 0.76),   complex(0.45, -0.42)]])"
   ]
  },
  {
   "cell_type": "code",
   "execution_count": 6,
   "metadata": {},
   "outputs": [
    {
     "output_type": "stream",
     "name": "stdout",
     "text": [
      "[[-0.573+1.43j ]\n [ 1.079+0.198j]\n [ 1.571-0.201j]\n [ 0.72 +1.108j]]\n"
     ]
    }
   ],
   "source": [
    "r = H * x + n\n",
    "print(r)"
   ]
  },
  {
   "cell_type": "code",
   "execution_count": 7,
   "metadata": {},
   "outputs": [
    {
     "output_type": "stream",
     "name": "stdout",
     "text": [
      "[[ 0.23 +0.12j   0.112+0.098j -0.53 +0.12j   0.86 +0.23j ]\n [-0.612-0.09j   0.16 -0.23j   0.321+0.25j  -0.887+0.099j]\n [-0.71 -0.12j   0.154+0.22j   0.56 +0.076j  0.23 -0.76j ]\n [ 0.32 -0.11j   0.32 +0.23j   0.71 +0.22j   0.45 +0.42j ]]\n"
     ]
    }
   ],
   "source": [
    "H_ct = H.getH()\n",
    "print(H_ct)"
   ]
  },
  {
   "cell_type": "code",
   "execution_count": 8,
   "metadata": {},
   "outputs": [
    {
     "output_type": "stream",
     "name": "stdout",
     "text": [
      "[[ 1.083+0.j    -0.098+0.135j -0.53 +0.129j  0.785+0.56j ]\n [-0.098-0.135j  0.328+0.j     0.327-0.025j  0.063-0.383j]\n [-0.53 -0.129j  0.327+0.025j  1.333+0.j    -0.205-0.215j]\n [ 0.785-0.56j   0.063+0.383j -0.205+0.215j  2.598+0.j   ]]\n"
     ]
    }
   ],
   "source": [
    "Q1 = H * H_ct\n",
    "print(Q1)"
   ]
  },
  {
   "cell_type": "code",
   "execution_count": 9,
   "metadata": {},
   "outputs": [
    {
     "output_type": "stream",
     "name": "stdout",
     "text": [
      "[[ 0.362+0.262j -0.232+0.037j  0.838+0.j    -0.205+0.019j]\n [-0.003-0.156j  0.177-0.1j    0.326+0.067j  0.907+0.j   ]\n [-0.168-0.214j  0.854+0.j     0.3  +0.055j -0.316-0.063j]\n [ 0.838+0.j     0.242-0.34j  -0.274+0.136j  0.006-0.174j]]\n"
     ]
    }
   ],
   "source": [
    "from numpy import linalg as LA\n",
    "\n",
    "D1, U = LA.eig(Q1)\n",
    "\n",
    "print(U)"
   ]
  },
  {
   "cell_type": "code",
   "execution_count": 10,
   "metadata": {},
   "outputs": [
    {
     "output_type": "stream",
     "name": "stdout",
     "text": [
      "[3.281-4.807e-17j 1.409-1.211e-17j 0.488+7.744e-18j 0.164-3.075e-18j]\n"
     ]
    }
   ],
   "source": [
    "print(D1)"
   ]
  },
  {
   "cell_type": "code",
   "execution_count": 11,
   "metadata": {},
   "outputs": [
    {
     "output_type": "stream",
     "name": "stdout",
     "text": [
      "[[ 1.177+0.j    -1.036-0.129j -0.404+0.747j  0.252+0.013j]\n [-1.036+0.129j  1.423+0.j     0.339-0.616j -0.262+0.317j]\n [-0.404-0.747j  0.339+0.616j  1.54 +0.j     0.085-0.589j]\n [ 0.252-0.013j -0.262-0.317j  0.085+0.589j  1.201+0.j   ]]\n"
     ]
    }
   ],
   "source": [
    "Q2 = H_ct * H\n",
    "print(Q2)"
   ]
  },
  {
   "cell_type": "code",
   "execution_count": 12,
   "metadata": {},
   "outputs": [
    {
     "output_type": "stream",
     "name": "stdout",
     "text": [
      "[[-0.242+0.481j -0.186-0.088j  0.703+0.j     0.414-0.043j]\n [ 0.175-0.528j  0.285+0.354j  0.574-0.201j -0.02 +0.337j]\n [ 0.567+0.j     0.377-0.227j -0.113+0.241j  0.644+0.j   ]\n [-0.106+0.26j   0.747+0.j     0.182+0.179j -0.379-0.394j]]\n"
     ]
    }
   ],
   "source": [
    "D2, V = LA.eig(Q2)\n",
    "print(V)"
   ]
  },
  {
   "cell_type": "code",
   "execution_count": 13,
   "metadata": {},
   "outputs": [
    {
     "output_type": "stream",
     "name": "stdout",
     "text": [
      "[1.811-1.327e-17j 1.187-5.101e-18j 0.698+5.545e-18j 0.406-3.791e-18j]\n"
     ]
    }
   ],
   "source": [
    "D = np.sqrt(D1)\n",
    "print(D)"
   ]
  },
  {
   "cell_type": "code",
   "execution_count": 14,
   "metadata": {},
   "outputs": [],
   "source": [
    "np = U.getH() * n\n",
    "xp = V.getH() * x\n",
    "rp = U.getH() * r"
   ]
  },
  {
   "cell_type": "code",
   "execution_count": 15,
   "metadata": {},
   "outputs": [
    {
     "output_type": "stream",
     "name": "stdout",
     "text": [
      "[[ 0.001+0.014j]\n [ 0.037-0.008j]\n [ 0.013+0.012j]\n [-0.009-0.005j]]\n------------------\n[[ 1.146-0.371j]\n [ 1.171+0.402j]\n [ 1.228+0.128j]\n [-0.875-0.461j]]\n------------------\n[[0.516+2.135j]\n [1.496+0.173j]\n [0.299+0.641j]\n [0.452+0.191j]]\n"
     ]
    }
   ],
   "source": [
    "print(np)\n",
    "print(\"------------------\")\n",
    "print(xp)\n",
    "print(\"------------------\")\n",
    "print(rp)"
   ]
  },
  {
   "cell_type": "code",
   "execution_count": null,
   "metadata": {},
   "outputs": [],
   "source": []
  }
 ],
 "metadata": {
  "kernelspec": {
   "display_name": "Python 3",
   "language": "python",
   "name": "python3"
  },
  "language_info": {
   "codemirror_mode": {
    "name": "ipython",
    "version": 3
   },
   "file_extension": ".py",
   "mimetype": "text/x-python",
   "name": "python",
   "nbconvert_exporter": "python",
   "pygments_lexer": "ipython3",
   "version": "3.6.9-final"
  }
 },
 "nbformat": 4,
 "nbformat_minor": 4
}